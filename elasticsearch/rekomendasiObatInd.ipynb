{
 "cells": [
  {
   "cell_type": "code",
   "execution_count": 1,
   "metadata": {},
   "outputs": [],
   "source": [
    "from elasticsearch import Elasticsearch"
   ]
  },
  {
   "cell_type": "code",
   "execution_count": 2,
   "metadata": {},
   "outputs": [
    {
     "data": {
      "text/plain": [
       "True"
      ]
     },
     "execution_count": 2,
     "metadata": {},
     "output_type": "execute_result"
    }
   ],
   "source": [
    "es = Elasticsearch(\n",
    "    \"https://localhost:9200\",\n",
    "    basic_auth=(\"elastic\",\"QGm3UkTIuPLi*PAdmWjR\"),\n",
    "    ca_certs=\"C:/Users/Geraldus Wilsen/Downloads/elasticsearch-8.11.1/config/certs/http_ca.crt\"\n",
    ")\n",
    "es.ping()"
   ]
  },
  {
   "cell_type": "code",
   "execution_count": 12,
   "metadata": {},
   "outputs": [
    {
     "data": {
      "text/html": [
       "<div>\n",
       "<style scoped>\n",
       "    .dataframe tbody tr th:only-of-type {\n",
       "        vertical-align: middle;\n",
       "    }\n",
       "\n",
       "    .dataframe tbody tr th {\n",
       "        vertical-align: top;\n",
       "    }\n",
       "\n",
       "    .dataframe thead th {\n",
       "        text-align: right;\n",
       "    }\n",
       "</style>\n",
       "<table border=\"1\" class=\"dataframe\">\n",
       "  <thead>\n",
       "    <tr style=\"text-align: right;\">\n",
       "      <th></th>\n",
       "      <th>id</th>\n",
       "      <th>name</th>\n",
       "      <th>uses</th>\n",
       "    </tr>\n",
       "  </thead>\n",
       "  <tbody>\n",
       "    <tr>\n",
       "      <th>0</th>\n",
       "      <td>0</td>\n",
       "      <td>Sildenafil Citrate 50 mg 4 Tablet</td>\n",
       "      <td>SILDENAFIL CITRATE merupakan obat yang digunak...</td>\n",
       "    </tr>\n",
       "    <tr>\n",
       "      <th>1</th>\n",
       "      <td>1</td>\n",
       "      <td>Viagra 50 mg 1 Tablet</td>\n",
       "      <td>VIAGRA merupakan obat yang digunakan untuk men...</td>\n",
       "    </tr>\n",
       "    <tr>\n",
       "      <th>2</th>\n",
       "      <td>2</td>\n",
       "      <td>Ericfil Tablet 100 mg</td>\n",
       "      <td>ERICFIL merupakan obat yang digunakan untuk me...</td>\n",
       "    </tr>\n",
       "    <tr>\n",
       "      <th>3</th>\n",
       "      <td>3</td>\n",
       "      <td>Cialis Tablet 10 mg</td>\n",
       "      <td>CIALIS 10 MG merupakan obat dengan kandungan T...</td>\n",
       "    </tr>\n",
       "    <tr>\n",
       "      <th>4</th>\n",
       "      <td>4</td>\n",
       "      <td>Ericfil 50 mg Odf</td>\n",
       "      <td>ERICFIL 50 MG ODF merupakan obat yang digunaka...</td>\n",
       "    </tr>\n",
       "  </tbody>\n",
       "</table>\n",
       "</div>"
      ],
      "text/plain": [
       "   id                               name  \\\n",
       "0   0  Sildenafil Citrate 50 mg 4 Tablet   \n",
       "1   1              Viagra 50 mg 1 Tablet   \n",
       "2   2              Ericfil Tablet 100 mg   \n",
       "3   3                Cialis Tablet 10 mg   \n",
       "4   4                  Ericfil 50 mg Odf   \n",
       "\n",
       "                                                uses  \n",
       "0  SILDENAFIL CITRATE merupakan obat yang digunak...  \n",
       "1  VIAGRA merupakan obat yang digunakan untuk men...  \n",
       "2  ERICFIL merupakan obat yang digunakan untuk me...  \n",
       "3  CIALIS 10 MG merupakan obat dengan kandungan T...  \n",
       "4  ERICFIL 50 MG ODF merupakan obat yang digunaka...  "
      ]
     },
     "execution_count": 12,
     "metadata": {},
     "output_type": "execute_result"
    }
   ],
   "source": [
    "import pandas as pd\n",
    "\n",
    "# df = pd.read_csv(\"data_fix_obat_with_nan_value.csv\", sep = \";\")\n",
    "df = pd.read_csv(\"data_obat.csv\", usecols=[\"id\", \"name\", \"uses\"], sep = \";\").head(500)\n",
    "df.fillna(\"None\", inplace=True)\n",
    "df.head()"
   ]
  },
  {
   "cell_type": "code",
   "execution_count": 13,
   "metadata": {},
   "outputs": [
    {
     "name": "stderr",
     "output_type": "stream",
     "text": [
      "c:\\Users\\Geraldus Wilsen\\AppData\\Local\\Programs\\Python\\Python310\\lib\\site-packages\\tqdm\\auto.py:21: TqdmWarning: IProgress not found. Please update jupyter and ipywidgets. See https://ipywidgets.readthedocs.io/en/stable/user_install.html\n",
      "  from .autonotebook import tqdm as notebook_tqdm\n"
     ]
    }
   ],
   "source": [
    "from sentence_transformers import SentenceTransformer\n",
    "model = SentenceTransformer('all-mpnet-base-v2')"
   ]
  },
  {
   "cell_type": "code",
   "execution_count": 14,
   "metadata": {},
   "outputs": [
    {
     "data": {
      "text/plain": [
       "True"
      ]
     },
     "execution_count": 14,
     "metadata": {},
     "output_type": "execute_result"
    }
   ],
   "source": [
    "es.ping()"
   ]
  },
  {
   "cell_type": "code",
   "execution_count": 16,
   "metadata": {},
   "outputs": [],
   "source": [
    "df[\"uses_vector\"] = df[\"uses\"].apply(lambda x: model.encode(x))"
   ]
  },
  {
   "cell_type": "code",
   "execution_count": 17,
   "metadata": {},
   "outputs": [
    {
     "data": {
      "text/html": [
       "<div>\n",
       "<style scoped>\n",
       "    .dataframe tbody tr th:only-of-type {\n",
       "        vertical-align: middle;\n",
       "    }\n",
       "\n",
       "    .dataframe tbody tr th {\n",
       "        vertical-align: top;\n",
       "    }\n",
       "\n",
       "    .dataframe thead th {\n",
       "        text-align: right;\n",
       "    }\n",
       "</style>\n",
       "<table border=\"1\" class=\"dataframe\">\n",
       "  <thead>\n",
       "    <tr style=\"text-align: right;\">\n",
       "      <th></th>\n",
       "      <th>id</th>\n",
       "      <th>name</th>\n",
       "      <th>uses</th>\n",
       "      <th>uses_vector</th>\n",
       "    </tr>\n",
       "  </thead>\n",
       "  <tbody>\n",
       "    <tr>\n",
       "      <th>0</th>\n",
       "      <td>0</td>\n",
       "      <td>Sildenafil Citrate 50 mg 4 Tablet</td>\n",
       "      <td>SILDENAFIL CITRATE merupakan obat yang digunak...</td>\n",
       "      <td>[0.009720819, -0.03853779, 0.0065294574, -0.02...</td>\n",
       "    </tr>\n",
       "    <tr>\n",
       "      <th>1</th>\n",
       "      <td>1</td>\n",
       "      <td>Viagra 50 mg 1 Tablet</td>\n",
       "      <td>VIAGRA merupakan obat yang digunakan untuk men...</td>\n",
       "      <td>[0.017517975, -0.047177713, 0.013666437, -0.01...</td>\n",
       "    </tr>\n",
       "    <tr>\n",
       "      <th>2</th>\n",
       "      <td>2</td>\n",
       "      <td>Ericfil Tablet 100 mg</td>\n",
       "      <td>ERICFIL merupakan obat yang digunakan untuk me...</td>\n",
       "      <td>[0.052561115, -0.06175869, 0.026492704, -0.014...</td>\n",
       "    </tr>\n",
       "    <tr>\n",
       "      <th>3</th>\n",
       "      <td>3</td>\n",
       "      <td>Cialis Tablet 10 mg</td>\n",
       "      <td>CIALIS 10 MG merupakan obat dengan kandungan T...</td>\n",
       "      <td>[0.0005132847, -0.056769144, -0.00086643675, -...</td>\n",
       "    </tr>\n",
       "    <tr>\n",
       "      <th>4</th>\n",
       "      <td>4</td>\n",
       "      <td>Ericfil 50 mg Odf</td>\n",
       "      <td>ERICFIL 50 MG ODF merupakan obat yang digunaka...</td>\n",
       "      <td>[0.06265341, -0.06602495, 0.023286238, -0.0229...</td>\n",
       "    </tr>\n",
       "  </tbody>\n",
       "</table>\n",
       "</div>"
      ],
      "text/plain": [
       "   id                               name  \\\n",
       "0   0  Sildenafil Citrate 50 mg 4 Tablet   \n",
       "1   1              Viagra 50 mg 1 Tablet   \n",
       "2   2              Ericfil Tablet 100 mg   \n",
       "3   3                Cialis Tablet 10 mg   \n",
       "4   4                  Ericfil 50 mg Odf   \n",
       "\n",
       "                                                uses  \\\n",
       "0  SILDENAFIL CITRATE merupakan obat yang digunak...   \n",
       "1  VIAGRA merupakan obat yang digunakan untuk men...   \n",
       "2  ERICFIL merupakan obat yang digunakan untuk me...   \n",
       "3  CIALIS 10 MG merupakan obat dengan kandungan T...   \n",
       "4  ERICFIL 50 MG ODF merupakan obat yang digunaka...   \n",
       "\n",
       "                                         uses_vector  \n",
       "0  [0.009720819, -0.03853779, 0.0065294574, -0.02...  \n",
       "1  [0.017517975, -0.047177713, 0.013666437, -0.01...  \n",
       "2  [0.052561115, -0.06175869, 0.026492704, -0.014...  \n",
       "3  [0.0005132847, -0.056769144, -0.00086643675, -...  \n",
       "4  [0.06265341, -0.06602495, 0.023286238, -0.0229...  "
      ]
     },
     "execution_count": 17,
     "metadata": {},
     "output_type": "execute_result"
    }
   ],
   "source": [
    "df.head()"
   ]
  },
  {
   "cell_type": "code",
   "execution_count": 19,
   "metadata": {},
   "outputs": [
    {
     "data": {
      "text/plain": [
       "768"
      ]
     },
     "execution_count": 19,
     "metadata": {},
     "output_type": "execute_result"
    }
   ],
   "source": [
    "len(df['uses_vector'][0])"
   ]
  },
  {
   "cell_type": "code",
   "execution_count": 20,
   "metadata": {},
   "outputs": [
    {
     "data": {
      "text/plain": [
       "ObjectApiResponse({'acknowledged': True, 'shards_acknowledged': True, 'index': 'data_obat'})"
      ]
     },
     "execution_count": 20,
     "metadata": {},
     "output_type": "execute_result"
    }
   ],
   "source": [
    "from indexMapping import indexMapping\n",
    "\n",
    "es.indices.create(index=\"data_obat\", mappings=indexMapping)"
   ]
  },
  {
   "cell_type": "code",
   "execution_count": 21,
   "metadata": {},
   "outputs": [],
   "source": [
    "record_list = df.to_dict(\"records\")"
   ]
  },
  {
   "cell_type": "code",
   "execution_count": 22,
   "metadata": {},
   "outputs": [],
   "source": [
    "for record in record_list:\n",
    "    try:\n",
    "        es.index(index=\"data_obat\", document=record, id=record[\"id\"])\n",
    "    except Exception as e:\n",
    "        print(e)"
   ]
  },
  {
   "cell_type": "code",
   "execution_count": 23,
   "metadata": {},
   "outputs": [
    {
     "data": {
      "text/plain": [
       "ObjectApiResponse({'count': 500, '_shards': {'total': 1, 'successful': 1, 'skipped': 0, 'failed': 0}})"
      ]
     },
     "execution_count": 23,
     "metadata": {},
     "output_type": "execute_result"
    }
   ],
   "source": [
    "es.count(index=\"data_obat\")"
   ]
  },
  {
   "cell_type": "code",
   "execution_count": 24,
   "metadata": {},
   "outputs": [
    {
     "name": "stderr",
     "output_type": "stream",
     "text": [
      "C:\\Users\\Geraldus Wilsen\\AppData\\Local\\Temp\\ipykernel_17604\\695743240.py:11: ElasticsearchWarning: The kNN search API has been replaced by the `knn` option in the search API.\n",
      "  res = es.knn_search(index=\"data_obat\", knn=query , source=[\"name\",\"uses\"])\n"
     ]
    },
    {
     "data": {
      "text/plain": [
       "[{'_index': 'data_obat',\n",
       "  '_id': '25',\n",
       "  '_score': 0.6034966,\n",
       "  '_source': {'name': 'Viajoy Kaplet 100 mg',\n",
       "   'uses': 'VIAJOY merupakan obat dengan kandungan Sildenafil dalam bentuk kaplet salut selaput. Obat ini digunakan untuk disfungsi ereksi. Dalam penggunaan obat ini harus SESUAI DENGAN PETUNJUK DOKTER.'}},\n",
       " {'_index': 'data_obat',\n",
       "  '_id': '88',\n",
       "  '_score': 0.6034966,\n",
       "  '_source': {'name': 'Viajoy Kaplet 100 mg',\n",
       "   'uses': 'VIAJOY merupakan obat dengan kandungan Sildenafil dalam bentuk kaplet salut selaput. Obat ini digunakan untuk disfungsi ereksi. Dalam penggunaan obat ini harus SESUAI DENGAN PETUNJUK DOKTER.'}},\n",
       " {'_index': 'data_obat',\n",
       "  '_id': '10',\n",
       "  '_score': 0.5925721,\n",
       "  '_source': {'name': 'Topgra 100 mg 1 Tablet',\n",
       "   'uses': 'TOPGRA merupakan obat yang digunakan untuk mengobati gangguan fungsi seksual pada pria, yaitu disfungsi ereksi. Obat ini bekerja dengan cara meningkatkan aliran darah ke alat kelamin pria sehingga dapat mempertahankan ereksi saat berhubungan seksual. Dalam penggunaan obat ini harus SESUAI DENGAN PETUNJUK DOKTER.'}},\n",
       " {'_index': 'data_obat',\n",
       "  '_id': '73',\n",
       "  '_score': 0.5925721,\n",
       "  '_source': {'name': 'Topgra 100 mg 1 Tablet',\n",
       "   'uses': 'TOPGRA merupakan obat yang digunakan untuk mengobati gangguan fungsi seksual pada pria, yaitu disfungsi ereksi. Obat ini bekerja dengan cara meningkatkan aliran darah ke alat kelamin pria sehingga dapat mempertahankan ereksi saat berhubungan seksual. Dalam penggunaan obat ini harus SESUAI DENGAN PETUNJUK DOKTER.'}},\n",
       " {'_index': 'data_obat',\n",
       "  '_id': '33',\n",
       "  '_score': 0.5880701,\n",
       "  '_source': {'name': 'Pinfetil 50 mg 10 Tablet',\n",
       "   'uses': 'Pembelian obat ini memerlukan edukasi terkait penggunaan atau pengonsumsian obat yang tepat dan aman yang akan dikenakan biaya.'}},\n",
       " {'_index': 'data_obat',\n",
       "  '_id': '40',\n",
       "  '_score': 0.5880701,\n",
       "  '_source': {'name': 'Clovertil 50 mg 10 Tablet',\n",
       "   'uses': 'Pembelian obat ini memerlukan edukasi terkait penggunaan atau pengonsumsian obat yang tepat dan aman yang akan dikenakan biaya.'}},\n",
       " {'_index': 'data_obat',\n",
       "  '_id': '43',\n",
       "  '_score': 0.5880701,\n",
       "  '_source': {'name': 'Fertin 50 mg 10 Tablet',\n",
       "   'uses': 'Pembelian obat ini memerlukan edukasi terkait penggunaan atau pengonsumsian obat yang tepat dan aman yang akan dikenakan biaya.'}},\n",
       " {'_index': 'data_obat',\n",
       "  '_id': '45',\n",
       "  '_score': 0.5880701,\n",
       "  '_source': {'name': 'Gravynon 5 mg 10 Tablet',\n",
       "   'uses': 'Pembelian obat ini memerlukan edukasi terkait penggunaan atau pengonsumsian obat yang tepat dan aman yang akan dikenakan biaya.'}},\n",
       " {'_index': 'data_obat',\n",
       "  '_id': '47',\n",
       "  '_score': 0.5880701,\n",
       "  '_source': {'name': 'Nobor 5 mg 10 Tablet',\n",
       "   'uses': 'Pembelian obat ini memerlukan edukasi terkait penggunaan atau pengonsumsian obat yang tepat dan aman yang akan dikenakan biaya.'}},\n",
       " {'_index': 'data_obat',\n",
       "  '_id': '48',\n",
       "  '_score': 0.5880701,\n",
       "  '_source': {'name': 'OestroGel 80 g',\n",
       "   'uses': 'Pembelian obat ini memerlukan edukasi terkait penggunaan atau pengonsumsian obat yang tepat dan aman yang akan dikenakan biaya.'}}]"
      ]
     },
     "execution_count": 24,
     "metadata": {},
     "output_type": "execute_result"
    }
   ],
   "source": [
    "input_keyword = \"obat sakit kepala\"\n",
    "vector_of_input_keyword = model.encode(input_keyword)\n",
    "\n",
    "query = {\n",
    "    \"field\" : \"uses_vector\",\n",
    "    \"query_vector\" : vector_of_input_keyword,\n",
    "    \"k\" : 10,\n",
    "    \"num_candidates\" : 500, \n",
    "}\n",
    "\n",
    "res = es.knn_search(index=\"data_obat\", knn=query , source=[\"name\",\"uses\"])\n",
    "res[\"hits\"][\"hits\"]"
   ]
  }
 ],
 "metadata": {
  "kernelspec": {
   "display_name": "venv",
   "language": "python",
   "name": "python3"
  },
  "language_info": {
   "codemirror_mode": {
    "name": "ipython",
    "version": 3
   },
   "file_extension": ".py",
   "mimetype": "text/x-python",
   "name": "python",
   "nbconvert_exporter": "python",
   "pygments_lexer": "ipython3",
   "version": "3.10.11"
  }
 },
 "nbformat": 4,
 "nbformat_minor": 2
}
