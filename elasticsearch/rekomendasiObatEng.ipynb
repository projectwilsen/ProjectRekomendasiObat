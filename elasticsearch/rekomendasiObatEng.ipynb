{
 "cells": [
  {
   "cell_type": "code",
   "execution_count": 1,
   "metadata": {},
   "outputs": [],
   "source": [
    "from elasticsearch import Elasticsearch"
   ]
  },
  {
   "cell_type": "code",
   "execution_count": 2,
   "metadata": {},
   "outputs": [
    {
     "data": {
      "text/plain": [
       "False"
      ]
     },
     "execution_count": 2,
     "metadata": {},
     "output_type": "execute_result"
    }
   ],
   "source": [
    "es = Elasticsearch(\n",
    "    \"https://localhost:9200\",\n",
    "    basic_auth=(\"elastic\",\"QGm3UkTIuPLi*PAdmWjR\"),\n",
    "    ca_certs=\"C:/Users/Geraldus Wilsen/Downloads/elasticsearch-8.11.1/config/certs/http_ca.crt\"\n",
    ")\n",
    "es.ping()"
   ]
  },
  {
   "cell_type": "code",
   "execution_count": 3,
   "metadata": {},
   "outputs": [
    {
     "data": {
      "text/html": [
       "<div>\n",
       "<style scoped>\n",
       "    .dataframe tbody tr th:only-of-type {\n",
       "        vertical-align: middle;\n",
       "    }\n",
       "\n",
       "    .dataframe tbody tr th {\n",
       "        vertical-align: top;\n",
       "    }\n",
       "\n",
       "    .dataframe thead th {\n",
       "        text-align: right;\n",
       "    }\n",
       "</style>\n",
       "<table border=\"1\" class=\"dataframe\">\n",
       "  <thead>\n",
       "    <tr style=\"text-align: right;\">\n",
       "      <th></th>\n",
       "      <th>Medicine Name</th>\n",
       "      <th>Composition</th>\n",
       "      <th>Uses</th>\n",
       "      <th>Side_effects</th>\n",
       "      <th>Image URL</th>\n",
       "      <th>Manufacturer</th>\n",
       "      <th>Excellent Review %</th>\n",
       "      <th>Average Review %</th>\n",
       "      <th>Poor Review %</th>\n",
       "    </tr>\n",
       "  </thead>\n",
       "  <tbody>\n",
       "    <tr>\n",
       "      <th>0</th>\n",
       "      <td>Avastin 400mg Injection</td>\n",
       "      <td>Bevacizumab (400mg)</td>\n",
       "      <td>Cancer of colon and rectum Non-small cell lun...</td>\n",
       "      <td>Rectal bleeding Taste change Headache Noseblee...</td>\n",
       "      <td>https://onemg.gumlet.io/l_watermark_346,w_480,...</td>\n",
       "      <td>Roche Products India Pvt Ltd</td>\n",
       "      <td>22</td>\n",
       "      <td>56</td>\n",
       "      <td>22</td>\n",
       "    </tr>\n",
       "    <tr>\n",
       "      <th>1</th>\n",
       "      <td>Augmentin 625 Duo Tablet</td>\n",
       "      <td>Amoxycillin  (500mg) +  Clavulanic Acid (125mg)</td>\n",
       "      <td>Treatment of Bacterial infections</td>\n",
       "      <td>Vomiting Nausea Diarrhea Mucocutaneous candidi...</td>\n",
       "      <td>https://onemg.gumlet.io/l_watermark_346,w_480,...</td>\n",
       "      <td>Glaxo SmithKline Pharmaceuticals Ltd</td>\n",
       "      <td>47</td>\n",
       "      <td>35</td>\n",
       "      <td>18</td>\n",
       "    </tr>\n",
       "    <tr>\n",
       "      <th>2</th>\n",
       "      <td>Azithral 500 Tablet</td>\n",
       "      <td>Azithromycin (500mg)</td>\n",
       "      <td>Treatment of Bacterial infections</td>\n",
       "      <td>Nausea Abdominal pain Diarrhea</td>\n",
       "      <td>https://onemg.gumlet.io/l_watermark_346,w_480,...</td>\n",
       "      <td>Alembic Pharmaceuticals Ltd</td>\n",
       "      <td>39</td>\n",
       "      <td>40</td>\n",
       "      <td>21</td>\n",
       "    </tr>\n",
       "    <tr>\n",
       "      <th>3</th>\n",
       "      <td>Ascoril LS Syrup</td>\n",
       "      <td>Ambroxol (30mg/5ml) + Levosalbutamol (1mg/5ml)...</td>\n",
       "      <td>Treatment of Cough with mucus</td>\n",
       "      <td>Nausea Vomiting Diarrhea Upset stomach Stomach...</td>\n",
       "      <td>https://onemg.gumlet.io/l_watermark_346,w_480,...</td>\n",
       "      <td>Glenmark Pharmaceuticals Ltd</td>\n",
       "      <td>24</td>\n",
       "      <td>41</td>\n",
       "      <td>35</td>\n",
       "    </tr>\n",
       "    <tr>\n",
       "      <th>4</th>\n",
       "      <td>Aciloc 150 Tablet</td>\n",
       "      <td>Ranitidine (150mg)</td>\n",
       "      <td>Treatment of Gastroesophageal reflux disease (...</td>\n",
       "      <td>Headache Diarrhea Gastrointestinal disturbance</td>\n",
       "      <td>https://onemg.gumlet.io/l_watermark_346,w_480,...</td>\n",
       "      <td>Cadila Pharmaceuticals Ltd</td>\n",
       "      <td>34</td>\n",
       "      <td>37</td>\n",
       "      <td>29</td>\n",
       "    </tr>\n",
       "  </tbody>\n",
       "</table>\n",
       "</div>"
      ],
      "text/plain": [
       "              Medicine Name  \\\n",
       "0   Avastin 400mg Injection   \n",
       "1  Augmentin 625 Duo Tablet   \n",
       "2       Azithral 500 Tablet   \n",
       "3          Ascoril LS Syrup   \n",
       "4         Aciloc 150 Tablet   \n",
       "\n",
       "                                         Composition  \\\n",
       "0                                Bevacizumab (400mg)   \n",
       "1    Amoxycillin  (500mg) +  Clavulanic Acid (125mg)   \n",
       "2                               Azithromycin (500mg)   \n",
       "3  Ambroxol (30mg/5ml) + Levosalbutamol (1mg/5ml)...   \n",
       "4                                 Ranitidine (150mg)   \n",
       "\n",
       "                                                Uses  \\\n",
       "0   Cancer of colon and rectum Non-small cell lun...   \n",
       "1                  Treatment of Bacterial infections   \n",
       "2                  Treatment of Bacterial infections   \n",
       "3                      Treatment of Cough with mucus   \n",
       "4  Treatment of Gastroesophageal reflux disease (...   \n",
       "\n",
       "                                        Side_effects  \\\n",
       "0  Rectal bleeding Taste change Headache Noseblee...   \n",
       "1  Vomiting Nausea Diarrhea Mucocutaneous candidi...   \n",
       "2                     Nausea Abdominal pain Diarrhea   \n",
       "3  Nausea Vomiting Diarrhea Upset stomach Stomach...   \n",
       "4     Headache Diarrhea Gastrointestinal disturbance   \n",
       "\n",
       "                                           Image URL  \\\n",
       "0  https://onemg.gumlet.io/l_watermark_346,w_480,...   \n",
       "1  https://onemg.gumlet.io/l_watermark_346,w_480,...   \n",
       "2  https://onemg.gumlet.io/l_watermark_346,w_480,...   \n",
       "3  https://onemg.gumlet.io/l_watermark_346,w_480,...   \n",
       "4  https://onemg.gumlet.io/l_watermark_346,w_480,...   \n",
       "\n",
       "                           Manufacturer  Excellent Review %  Average Review %  \\\n",
       "0          Roche Products India Pvt Ltd                  22                56   \n",
       "1  Glaxo SmithKline Pharmaceuticals Ltd                  47                35   \n",
       "2           Alembic Pharmaceuticals Ltd                  39                40   \n",
       "3          Glenmark Pharmaceuticals Ltd                  24                41   \n",
       "4            Cadila Pharmaceuticals Ltd                  34                37   \n",
       "\n",
       "   Poor Review %  \n",
       "0             22  \n",
       "1             18  \n",
       "2             21  \n",
       "3             35  \n",
       "4             29  "
      ]
     },
     "execution_count": 3,
     "metadata": {},
     "output_type": "execute_result"
    }
   ],
   "source": [
    "import pandas as pd\n",
    "\n",
    "df = pd.read_csv(\"Medicine_Details.csv\").loc[:499]\n",
    "df.fillna(\"None\", inplace=True)\n",
    "df.head()"
   ]
  },
  {
   "cell_type": "code",
   "execution_count": 4,
   "metadata": {},
   "outputs": [
    {
     "name": "stderr",
     "output_type": "stream",
     "text": [
      "c:\\Users\\Geraldus Wilsen\\AppData\\Local\\Programs\\Python\\Python310\\lib\\site-packages\\tqdm\\auto.py:21: TqdmWarning: IProgress not found. Please update jupyter and ipywidgets. See https://ipywidgets.readthedocs.io/en/stable/user_install.html\n",
      "  from .autonotebook import tqdm as notebook_tqdm\n"
     ]
    }
   ],
   "source": [
    "from sentence_transformers import SentenceTransformer\n",
    "model = SentenceTransformer('all-mpnet-base-v2')"
   ]
  },
  {
   "cell_type": "code",
   "execution_count": 5,
   "metadata": {},
   "outputs": [
    {
     "data": {
      "text/plain": [
       "False"
      ]
     },
     "execution_count": 5,
     "metadata": {},
     "output_type": "execute_result"
    }
   ],
   "source": [
    "es.ping()"
   ]
  },
  {
   "cell_type": "code",
   "execution_count": 6,
   "metadata": {},
   "outputs": [],
   "source": [
    "df[\"uses_vector\"] = df[\"Uses\"].apply(lambda x: model.encode(x))"
   ]
  },
  {
   "cell_type": "code",
   "execution_count": 7,
   "metadata": {},
   "outputs": [
    {
     "data": {
      "text/html": [
       "<div>\n",
       "<style scoped>\n",
       "    .dataframe tbody tr th:only-of-type {\n",
       "        vertical-align: middle;\n",
       "    }\n",
       "\n",
       "    .dataframe tbody tr th {\n",
       "        vertical-align: top;\n",
       "    }\n",
       "\n",
       "    .dataframe thead th {\n",
       "        text-align: right;\n",
       "    }\n",
       "</style>\n",
       "<table border=\"1\" class=\"dataframe\">\n",
       "  <thead>\n",
       "    <tr style=\"text-align: right;\">\n",
       "      <th></th>\n",
       "      <th>id</th>\n",
       "      <th>name</th>\n",
       "      <th>uses</th>\n",
       "      <th>uses_vector</th>\n",
       "    </tr>\n",
       "  </thead>\n",
       "  <tbody>\n",
       "    <tr>\n",
       "      <th>0</th>\n",
       "      <td>1</td>\n",
       "      <td>Avastin 400mg Injection</td>\n",
       "      <td>Cancer of colon and rectum Non-small cell lun...</td>\n",
       "      <td>[0.026428059, 0.04972668, -0.03242681, -0.0772...</td>\n",
       "    </tr>\n",
       "    <tr>\n",
       "      <th>1</th>\n",
       "      <td>2</td>\n",
       "      <td>Augmentin 625 Duo Tablet</td>\n",
       "      <td>Treatment of Bacterial infections</td>\n",
       "      <td>[0.04261984, 0.0034055815, -0.004333484, -0.03...</td>\n",
       "    </tr>\n",
       "    <tr>\n",
       "      <th>2</th>\n",
       "      <td>3</td>\n",
       "      <td>Azithral 500 Tablet</td>\n",
       "      <td>Treatment of Bacterial infections</td>\n",
       "      <td>[0.04261984, 0.0034055815, -0.004333484, -0.03...</td>\n",
       "    </tr>\n",
       "    <tr>\n",
       "      <th>3</th>\n",
       "      <td>4</td>\n",
       "      <td>Ascoril LS Syrup</td>\n",
       "      <td>Treatment of Cough with mucus</td>\n",
       "      <td>[0.0103752995, 0.02946366, 0.0053328695, 0.014...</td>\n",
       "    </tr>\n",
       "    <tr>\n",
       "      <th>4</th>\n",
       "      <td>5</td>\n",
       "      <td>Aciloc 150 Tablet</td>\n",
       "      <td>Treatment of Gastroesophageal reflux disease (...</td>\n",
       "      <td>[0.06715654, -0.048785236, 0.0017081047, -0.02...</td>\n",
       "    </tr>\n",
       "  </tbody>\n",
       "</table>\n",
       "</div>"
      ],
      "text/plain": [
       "   id                      name  \\\n",
       "0   1   Avastin 400mg Injection   \n",
       "1   2  Augmentin 625 Duo Tablet   \n",
       "2   3       Azithral 500 Tablet   \n",
       "3   4          Ascoril LS Syrup   \n",
       "4   5         Aciloc 150 Tablet   \n",
       "\n",
       "                                                uses  \\\n",
       "0   Cancer of colon and rectum Non-small cell lun...   \n",
       "1                  Treatment of Bacterial infections   \n",
       "2                  Treatment of Bacterial infections   \n",
       "3                      Treatment of Cough with mucus   \n",
       "4  Treatment of Gastroesophageal reflux disease (...   \n",
       "\n",
       "                                         uses_vector  \n",
       "0  [0.026428059, 0.04972668, -0.03242681, -0.0772...  \n",
       "1  [0.04261984, 0.0034055815, -0.004333484, -0.03...  \n",
       "2  [0.04261984, 0.0034055815, -0.004333484, -0.03...  \n",
       "3  [0.0103752995, 0.02946366, 0.0053328695, 0.014...  \n",
       "4  [0.06715654, -0.048785236, 0.0017081047, -0.02...  "
      ]
     },
     "execution_count": 7,
     "metadata": {},
     "output_type": "execute_result"
    }
   ],
   "source": [
    "df['id'] = range(1, len(df) + 1)\n",
    "df = df[['id','Medicine Name','Uses','uses_vector']]\n",
    "df.rename(columns={'Medicine Name': 'name', 'Uses':'uses'}, inplace=True)\n",
    "df.head()"
   ]
  },
  {
   "cell_type": "code",
   "execution_count": 8,
   "metadata": {},
   "outputs": [
    {
     "data": {
      "text/plain": [
       "768"
      ]
     },
     "execution_count": 8,
     "metadata": {},
     "output_type": "execute_result"
    }
   ],
   "source": [
    "len(df['uses_vector'][0])"
   ]
  },
  {
   "cell_type": "code",
   "execution_count": 9,
   "metadata": {},
   "outputs": [
    {
     "ename": "BadRequestError",
     "evalue": "BadRequestError(400, 'resource_already_exists_exception', 'index [medicine_data/SmPyFiLvSYydmoVF-NqnGA] already exists')",
     "output_type": "error",
     "traceback": [
      "\u001b[1;31m---------------------------------------------------------------------------\u001b[0m",
      "\u001b[1;31mBadRequestError\u001b[0m                           Traceback (most recent call last)",
      "\u001b[1;32mc:\\Users\\Geraldus Wilsen\\Documents\\ProjectRekomendasiObat\\elasticsearch\\rekomendasiObatEng.ipynb Cell 9\u001b[0m line \u001b[0;36m3\n\u001b[0;32m      <a href='vscode-notebook-cell:/c%3A/Users/Geraldus%20Wilsen/Documents/ProjectRekomendasiObat/elasticsearch/rekomendasiObatEng.ipynb#X11sZmlsZQ%3D%3D?line=0'>1</a>\u001b[0m \u001b[39mfrom\u001b[39;00m \u001b[39mindexMapping\u001b[39;00m \u001b[39mimport\u001b[39;00m indexMapping\n\u001b[1;32m----> <a href='vscode-notebook-cell:/c%3A/Users/Geraldus%20Wilsen/Documents/ProjectRekomendasiObat/elasticsearch/rekomendasiObatEng.ipynb#X11sZmlsZQ%3D%3D?line=2'>3</a>\u001b[0m es\u001b[39m.\u001b[39;49mindices\u001b[39m.\u001b[39;49mcreate(index\u001b[39m=\u001b[39;49m\u001b[39m\"\u001b[39;49m\u001b[39mmedicine_data\u001b[39;49m\u001b[39m\"\u001b[39;49m, mappings\u001b[39m=\u001b[39;49mindexMapping)\n",
      "File \u001b[1;32mc:\\Users\\Geraldus Wilsen\\AppData\\Local\\Programs\\Python\\Python310\\lib\\site-packages\\elasticsearch\\_sync\\client\\utils.py:402\u001b[0m, in \u001b[0;36m_rewrite_parameters.<locals>.wrapper.<locals>.wrapped\u001b[1;34m(*args, **kwargs)\u001b[0m\n\u001b[0;32m    399\u001b[0m         \u001b[39mexcept\u001b[39;00m \u001b[39mKeyError\u001b[39;00m:\n\u001b[0;32m    400\u001b[0m             \u001b[39mpass\u001b[39;00m\n\u001b[1;32m--> 402\u001b[0m \u001b[39mreturn\u001b[39;00m api(\u001b[39m*\u001b[39margs, \u001b[39m*\u001b[39m\u001b[39m*\u001b[39mkwargs)\n",
      "File \u001b[1;32mc:\\Users\\Geraldus Wilsen\\AppData\\Local\\Programs\\Python\\Python310\\lib\\site-packages\\elasticsearch\\_sync\\client\\indices.py:493\u001b[0m, in \u001b[0;36mIndicesClient.create\u001b[1;34m(self, index, aliases, error_trace, filter_path, human, mappings, master_timeout, pretty, settings, timeout, wait_for_active_shards)\u001b[0m\n\u001b[0;32m    491\u001b[0m \u001b[39mif\u001b[39;00m __body \u001b[39mis\u001b[39;00m \u001b[39mnot\u001b[39;00m \u001b[39mNone\u001b[39;00m:\n\u001b[0;32m    492\u001b[0m     __headers[\u001b[39m\"\u001b[39m\u001b[39mcontent-type\u001b[39m\u001b[39m\"\u001b[39m] \u001b[39m=\u001b[39m \u001b[39m\"\u001b[39m\u001b[39mapplication/json\u001b[39m\u001b[39m\"\u001b[39m\n\u001b[1;32m--> 493\u001b[0m \u001b[39mreturn\u001b[39;00m \u001b[39mself\u001b[39;49m\u001b[39m.\u001b[39;49mperform_request(  \u001b[39m# type: ignore[return-value]\u001b[39;49;00m\n\u001b[0;32m    494\u001b[0m     \u001b[39m\"\u001b[39;49m\u001b[39mPUT\u001b[39;49m\u001b[39m\"\u001b[39;49m, __path, params\u001b[39m=\u001b[39;49m__query, headers\u001b[39m=\u001b[39;49m__headers, body\u001b[39m=\u001b[39;49m__body\n\u001b[0;32m    495\u001b[0m )\n",
      "File \u001b[1;32mc:\\Users\\Geraldus Wilsen\\AppData\\Local\\Programs\\Python\\Python310\\lib\\site-packages\\elasticsearch\\_sync\\client\\_base.py:389\u001b[0m, in \u001b[0;36mNamespacedClient.perform_request\u001b[1;34m(self, method, path, params, headers, body)\u001b[0m\n\u001b[0;32m    378\u001b[0m \u001b[39mdef\u001b[39;00m \u001b[39mperform_request\u001b[39m(\n\u001b[0;32m    379\u001b[0m     \u001b[39mself\u001b[39m,\n\u001b[0;32m    380\u001b[0m     method: \u001b[39mstr\u001b[39m,\n\u001b[1;32m   (...)\u001b[0m\n\u001b[0;32m    387\u001b[0m     \u001b[39m# Use the internal clients .perform_request() implementation\u001b[39;00m\n\u001b[0;32m    388\u001b[0m     \u001b[39m# so we take advantage of their transport options.\u001b[39;00m\n\u001b[1;32m--> 389\u001b[0m     \u001b[39mreturn\u001b[39;00m \u001b[39mself\u001b[39;49m\u001b[39m.\u001b[39;49m_client\u001b[39m.\u001b[39;49mperform_request(\n\u001b[0;32m    390\u001b[0m         method, path, params\u001b[39m=\u001b[39;49mparams, headers\u001b[39m=\u001b[39;49mheaders, body\u001b[39m=\u001b[39;49mbody\n\u001b[0;32m    391\u001b[0m     )\n",
      "File \u001b[1;32mc:\\Users\\Geraldus Wilsen\\AppData\\Local\\Programs\\Python\\Python310\\lib\\site-packages\\elasticsearch\\_sync\\client\\_base.py:320\u001b[0m, in \u001b[0;36mBaseClient.perform_request\u001b[1;34m(self, method, path, params, headers, body)\u001b[0m\n\u001b[0;32m    317\u001b[0m         \u001b[39mexcept\u001b[39;00m (\u001b[39mValueError\u001b[39;00m, \u001b[39mKeyError\u001b[39;00m, \u001b[39mTypeError\u001b[39;00m):\n\u001b[0;32m    318\u001b[0m             \u001b[39mpass\u001b[39;00m\n\u001b[1;32m--> 320\u001b[0m     \u001b[39mraise\u001b[39;00m HTTP_EXCEPTIONS\u001b[39m.\u001b[39mget(meta\u001b[39m.\u001b[39mstatus, ApiError)(\n\u001b[0;32m    321\u001b[0m         message\u001b[39m=\u001b[39mmessage, meta\u001b[39m=\u001b[39mmeta, body\u001b[39m=\u001b[39mresp_body\n\u001b[0;32m    322\u001b[0m     )\n\u001b[0;32m    324\u001b[0m \u001b[39m# 'X-Elastic-Product: Elasticsearch' should be on every 2XX response.\u001b[39;00m\n\u001b[0;32m    325\u001b[0m \u001b[39mif\u001b[39;00m \u001b[39mnot\u001b[39;00m \u001b[39mself\u001b[39m\u001b[39m.\u001b[39m_verified_elasticsearch:\n\u001b[0;32m    326\u001b[0m     \u001b[39m# If the header is set we mark the server as verified.\u001b[39;00m\n",
      "\u001b[1;31mBadRequestError\u001b[0m: BadRequestError(400, 'resource_already_exists_exception', 'index [medicine_data/SmPyFiLvSYydmoVF-NqnGA] already exists')"
     ]
    }
   ],
   "source": [
    "from indexMapping import indexMapping\n",
    "\n",
    "es.indices.create(index=\"medicine_data\", mappings=indexMapping)"
   ]
  },
  {
   "cell_type": "code",
   "execution_count": null,
   "metadata": {},
   "outputs": [],
   "source": [
    "record_list = df.to_dict(\"records\")"
   ]
  },
  {
   "cell_type": "code",
   "execution_count": null,
   "metadata": {},
   "outputs": [],
   "source": [
    "for record in record_list:\n",
    "    try:\n",
    "        es.index(index=\"medicine_data\", document=record, id=record[\"id\"])\n",
    "    except Exception as e:\n",
    "        print(e)"
   ]
  },
  {
   "cell_type": "code",
   "execution_count": null,
   "metadata": {},
   "outputs": [
    {
     "data": {
      "text/plain": [
       "ObjectApiResponse({'count': 500, '_shards': {'total': 1, 'successful': 1, 'skipped': 0, 'failed': 0}})"
      ]
     },
     "execution_count": 21,
     "metadata": {},
     "output_type": "execute_result"
    }
   ],
   "source": [
    "es.count(index=\"medicine_data\")"
   ]
  },
  {
   "cell_type": "code",
   "execution_count": 11,
   "metadata": {},
   "outputs": [
    {
     "name": "stderr",
     "output_type": "stream",
     "text": [
      "C:\\Users\\Geraldus Wilsen\\AppData\\Local\\Temp\\ipykernel_15480\\3605240143.py:11: ElasticsearchWarning: The kNN search API has been replaced by the `knn` option in the search API.\n",
      "  res = es.knn_search(index=\"medicine_data\", knn=query , source=[\"name\",\"uses\"])\n"
     ]
    },
    {
     "data": {
      "text/plain": [
       "[{'_index': 'medicine_data',\n",
       "  '_id': '1',\n",
       "  '_score': 0.5046534,\n",
       "  '_source': {'name': 'Avastin 400mg Injection',\n",
       "   'uses': ' Cancer of colon and rectum Non-small cell lung cancer Kidney cancer Brain tumor Ovarian cancer Cervical cancer'}},\n",
       " {'_index': 'medicine_data',\n",
       "  '_id': '16',\n",
       "  '_score': 0.4488577,\n",
       "  '_source': {'name': 'Armotraz Tablet', 'uses': ' Breast cancer'}},\n",
       " {'_index': 'medicine_data',\n",
       "  '_id': '253',\n",
       "  '_score': 0.4488577,\n",
       "  '_source': {'name': 'Altraz Tablet', 'uses': ' Breast cancer'}},\n",
       " {'_index': 'medicine_data',\n",
       "  '_id': '286',\n",
       "  '_score': 0.42753205,\n",
       "  '_source': {'name': 'Aprecap 125/80 Capsule',\n",
       "   'uses': ' Nausea and vomiting due to chemotherapy'}},\n",
       " {'_index': 'medicine_data',\n",
       "  '_id': '46',\n",
       "  '_score': 0.42140177,\n",
       "  '_source': {'name': 'Augmentin DDS Suspension',\n",
       "   'uses': 'Treatment of Resistant Tuberculosis (TB)Treatment of Bacterial infections'}},\n",
       " {'_index': 'medicine_data',\n",
       "  '_id': '132',\n",
       "  '_score': 0.42140177,\n",
       "  '_source': {'name': 'Advent Forte 457mg Syrup Tangy Orange',\n",
       "   'uses': 'Treatment of Resistant Tuberculosis (TB)Treatment of Bacterial infections'}},\n",
       " {'_index': 'medicine_data',\n",
       "  '_id': '224',\n",
       "  '_score': 0.42140177,\n",
       "  '_source': {'name': 'Augpen -DS Suspension',\n",
       "   'uses': 'Treatment of Resistant Tuberculosis (TB)Treatment of Bacterial infections'}},\n",
       " {'_index': 'medicine_data',\n",
       "  '_id': '369',\n",
       "  '_score': 0.42140177,\n",
       "  '_source': {'name': 'Advent 228.5mg Dry Syrup Tangy Orange',\n",
       "   'uses': 'Treatment of Resistant Tuberculosis (TB)Treatment of Bacterial infections'}},\n",
       " {'_index': 'medicine_data',\n",
       "  '_id': '430',\n",
       "  '_score': 0.42140177,\n",
       "  '_source': {'name': 'Advent 91.4mg Drops Tangy Orange',\n",
       "   'uses': 'Treatment of Resistant Tuberculosis (TB)Treatment of Bacterial infections'}},\n",
       " {'_index': 'medicine_data',\n",
       "  '_id': '144',\n",
       "  '_score': 0.41809577,\n",
       "  '_source': {'name': 'Aten 50 Tablet',\n",
       "   'uses': 'Treatment of Hypertension (high blood pressure)Treatment of Angina (heart-related chest pain)Treatment of ArrhythmiaPrevention of Heart attack'}}]"
      ]
     },
     "execution_count": 11,
     "metadata": {},
     "output_type": "execute_result"
    }
   ],
   "source": [
    "input_keyword = \"i'm looking for cancer medicine\"\n",
    "vector_of_input_keyword = model.encode(input_keyword)\n",
    "\n",
    "query = {\n",
    "    \"field\" : \"uses_vector\",\n",
    "    \"query_vector\" : vector_of_input_keyword,\n",
    "    \"k\" : 10,\n",
    "    \"num_candidates\" : 500, \n",
    "}\n",
    "\n",
    "res = es.knn_search(index=\"medicine_data\", knn=query , source=[\"name\",\"uses\"])\n",
    "res[\"hits\"][\"hits\"]"
   ]
  }
 ],
 "metadata": {
  "kernelspec": {
   "display_name": "venv",
   "language": "python",
   "name": "python3"
  },
  "language_info": {
   "codemirror_mode": {
    "name": "ipython",
    "version": 3
   },
   "file_extension": ".py",
   "mimetype": "text/x-python",
   "name": "python",
   "nbconvert_exporter": "python",
   "pygments_lexer": "ipython3",
   "version": "3.10.11"
  }
 },
 "nbformat": 4,
 "nbformat_minor": 2
}
