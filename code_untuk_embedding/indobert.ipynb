{
  "cells": [
    {
      "cell_type": "markdown",
      "metadata": {
        "id": "ITRbBfOz172m"
      },
      "source": [
        "Sebelum run code ini:\n",
        "1. Buat folder temp, small batch\n",
        "2. masukin data_obat_fix.csv"
      ]
    },
    {
      "cell_type": "code",
      "execution_count": 2,
      "metadata": {
        "id": "lkvgrjkacb9v"
      },
      "outputs": [
        {
          "name": "stderr",
          "output_type": "stream",
          "text": [
            "c:\\Users\\Geraldus Wilsen\\Documents\\ProjectRekomendasiObat\\venv\\lib\\site-packages\\tqdm\\auto.py:21: TqdmWarning: IProgress not found. Please update jupyter and ipywidgets. See https://ipywidgets.readthedocs.io/en/stable/user_install.html\n",
            "  from .autonotebook import tqdm as notebook_tqdm\n"
          ]
        }
      ],
      "source": [
        "import re\n",
        "import string\n",
        "import os\n",
        "import numpy as np\n",
        "import pandas as pd\n",
        "import torch\n",
        "from torch import clamp\n",
        "from transformers import AutoTokenizer, AutoModel\n",
        "from sklearn.metrics.pairwise import cosine_similarity\n",
        "import glob\n",
        "from natsort import natsorted\n",
        "import time"
      ]
    },
    {
      "cell_type": "code",
      "execution_count": 3,
      "metadata": {
        "id": "WB2yzXmt2oEv"
      },
      "outputs": [],
      "source": [
        "class SemanticSearch:\n",
        "\n",
        "    def __init__(self, corpus_embeddings_path='C:/Users/Geraldus Wilsen/Documents/ProjectRekomendasiObat/data/corpus_dense_embeddings_indobert.npy'):\n",
        "        self.corpus_embeddings_path = corpus_embeddings_path\n",
        "        self.device = torch.device(\"cuda:0\" if torch.cuda.is_available() else \"cpu\")\n",
        "\n",
        "    def load_pretrained(self, from_pretrained:str=\"indobenchmark/indobert-base-p1\"):\n",
        "        self.tokenizer = AutoTokenizer.from_pretrained(from_pretrained)\n",
        "        self.model = AutoModel.from_pretrained(from_pretrained)\n",
        "        self.model.to(self.device)\n",
        "\n",
        "    def encode(self, corpus, max_length):\n",
        "        tokens = {'input_ids': [], 'attention_mask': []}\n",
        "\n",
        "        for sentence in corpus:\n",
        "            new_tokens = self.tokenizer.encode_plus(sentence, max_length=max_length, truncation=True,\n",
        "                                                   padding='max_length', return_tensors='pt')\n",
        "            tokens['input_ids'].append(new_tokens['input_ids'][0])\n",
        "            tokens['attention_mask'].append(new_tokens['attention_mask'][0])\n",
        "\n",
        "        # Move tensors to GPU\n",
        "        tokens['input_ids'] = torch.stack(tokens['input_ids']).to(self.device)\n",
        "        tokens['attention_mask'] = torch.stack(tokens['attention_mask']).to(self.device)\n",
        "\n",
        "        # Run the model on GPU\n",
        "        with torch.no_grad():\n",
        "            outputs = self.model(**tokens)\n",
        "\n",
        "        embeddings = outputs.last_hidden_state\n",
        "\n",
        "        attention_mask = tokens['attention_mask']\n",
        "\n",
        "        mask = attention_mask.unsqueeze(-1).expand(embeddings.shape).float()\n",
        "\n",
        "        masked_embeddings = embeddings * mask\n",
        "\n",
        "        summed = torch.sum(masked_embeddings, 1)\n",
        "        summed_mask = torch.clamp(mask.sum(1), min=1e-9)\n",
        "        mean_pooled = summed / summed_mask\n",
        "\n",
        "        # Convert from PyTorch tensor to numpy array\n",
        "        mean_pooled = mean_pooled.detach().cpu().numpy()\n",
        "\n",
        "        return mean_pooled\n",
        "\n",
        "    def process(self, *corpora):\n",
        "        print('Encoding process using', self.device)\n",
        "        for max_length, corpus in zip([16, 32, 64, 128], corpora):\n",
        "            print(f\"Starting to embed corpus with {max_length} max length word\")\n",
        "\n",
        "            if len(corpus) > 50:\n",
        "                max_size = 50\n",
        "                smaller_batch = [corpus[i:i + max_size] for i in range(0, len(corpus), max_size)]\n",
        "                print(len(corpus), 'in corpus with', max_length, ' max length word separated into', len(smaller_batch),\n",
        "                      'smaller batch')\n",
        "\n",
        "                i = 1\n",
        "                for batch in smaller_batch:\n",
        "                    mean_pooled = self.encode(batch, max_length)\n",
        "                    np.save(f'temp/temp_{i}_{max_length}.npy', mean_pooled)\n",
        "                    print(f\"Finish embed corpus with {max_length} max length word, batch {i}\")\n",
        "                    i += 1\n",
        "                    time.sleep(30)\n",
        "\n",
        "                corpus = []\n",
        "                for e in natsorted(glob.glob(\"temp/*.npy\")):\n",
        "                    print(e)\n",
        "                    corpus.append(np.load(e))\n",
        "                    mean_pooled = np.vstack(corpus)\n",
        "                    print('Success corpus append')\n",
        "                    os.remove(e)\n",
        "                np.save(f'small_batch/corpus_dense_embeddings_{max_length}.npy', mean_pooled)\n",
        "                print(f\"Finish embed corpus with {max_length} length of word\")\n",
        "\n",
        "                time.sleep(60)\n",
        "\n",
        "            else:\n",
        "                # max_length = len(corpus[0].split(\" \"))\n",
        "                mean_pooled = self.encode(corpus, max_length)\n",
        "                print(\"Finish embed query\")\n",
        "\n",
        "\n",
        "        if len(corpora) > 1:\n",
        "            corpus = []\n",
        "            for e in natsorted(glob.glob(\"small_batch/*.npy\")):\n",
        "                print(e)\n",
        "                corpus.append(np.load(e))\n",
        "                mean_pooled = np.vstack(corpus)\n",
        "                print('Success corpus append')\n",
        "            np.save('corpus_dense_embeddings_indobert.npy', mean_pooled)\n",
        "\n",
        "        return mean_pooled\n",
        "\n",
        "    def rank(self, corpus, query):\n",
        "\n",
        "        if os.path.exists(self.corpus_embeddings_path):\n",
        "            corpus_embeddings = np.load(self.corpus_embeddings_path)\n",
        "        else:\n",
        "            corpus_embeddings = self.process(corpus)\n",
        "        query_embeddings = self.process([query])\n",
        "\n",
        "        rank = cosine_similarity(query_embeddings,corpus_embeddings)\n",
        "        rank_dict = {i: rank[0, i] for i in range(len(rank[0]))}\n",
        "\n",
        "        dense_rank = dict(sorted(rank_dict.items(), key=lambda item: item[1], reverse=True))\n",
        "\n",
        "        return dense_rank\n",
        "\n",
        "    def get_result(self, corpus, query, n:int=10):\n",
        "        dense_rank = self.rank(corpus, query)\n",
        "        corpus_id = list(dense_rank.keys())\n",
        "        result = []\n",
        "        for id in corpus_id[:n]:\n",
        "            result.append(corpus[id])\n",
        "        return result"
      ]
    },
    {
      "cell_type": "code",
      "execution_count": null,
      "metadata": {
        "id": "iJwI6fHI1rUe"
      },
      "outputs": [],
      "source": [
        "df = pd.read_csv('C:/Users/Geraldus Wilsen/Documents/ProjectRekomendasiObat/data/data_obat_fix_ordered.csv')\n",
        "max_length_16= df.loc[df['max_length'] == 16, 'summary'].tolist()\n",
        "max_length_32= df.loc[df['max_length'] == 32, 'summary'].tolist()\n",
        "max_length_64= df.loc[df['max_length'] == 64, 'summary'].tolist()\n",
        "max_length_128= df.loc[df['max_length'] == 128, 'summary'].tolist()"
      ]
    },
    {
      "cell_type": "code",
      "execution_count": null,
      "metadata": {
        "id": "OZHhTyMX17ev"
      },
      "outputs": [],
      "source": [
        "model = SemanticSearch()\n",
        "model.load_pretrained()\n",
        "\n",
        "model.process(max_length_16,max_length_32,max_length_64, max_length_128)"
      ]
    },
    {
      "cell_type": "code",
      "execution_count": 19,
      "metadata": {
        "colab": {
          "base_uri": "https://localhost:8080/"
        },
        "id": "BZfsoT5Pcf4L",
        "outputId": "048b0de5-d699-42c9-840f-21004ede0ae8"
      },
      "outputs": [
        {
          "name": "stdout",
          "output_type": "stream",
          "text": [
            "Encoding process using cpu\n",
            "Starting to embed corpus with 16 max length word\n",
            "Finish embed query\n"
          ]
        },
        {
          "data": {
            "text/plain": [
              "['borobudur kamal pil kamal membantu mengurangi gatal  gatal kulit',\n",
              " 'borobudur kamal kapsul kamal membantu mengurangi gatal  gatal kulit',\n",
              " 'kapsida kembang bulan kapsul membantu meringankan gatal  gatal  bisul  koreng jerawat',\n",
              " 'borobudur darsi pil darsi membantu mengurangi jerawat  bisul  gatal  gatal',\n",
              " 'borobudur darsi kapsul darsi membantu mengurangi jerawat  bisul  gatal  gatal',\n",
              " 'borobudur darsi kapsul darsi membantu mengurangi jerawat  bisul  gatal  gatal',\n",
              " 'borobudur darsi kapsul darsi membantu mengurangi jerawat  bisul  gatal  gatal',\n",
              " 'sang putih kapsul secara tradisional membantu lendir  mengurangi gatal bau tidak sedap daerah kewanitaan',\n",
              " 'borobudur mastin neem kapsul mastin neem membantu meringankan jerawat gatal  gatal',\n",
              " 'migranal pil digunakan membantu meredakan sakit kepala']"
            ]
          },
          "execution_count": 19,
          "metadata": {},
          "output_type": "execute_result"
        }
      ],
      "source": [
        "df = pd.read_csv('C:/Users/Geraldus Wilsen/Documents/ProjectRekomendasiObat/data/data_obat_fix_ordered.csv')\n",
        "corpus = df['summary'].to_list()\n",
        "query = \"pil untuk mengurangi gatal di kulit\"\n",
        "model = SemanticSearch()\n",
        "model.load_pretrained()\n",
        "model.get_result(corpus, query)"
      ]
    }
  ],
  "metadata": {
    "colab": {
      "provenance": []
    },
    "kernelspec": {
      "display_name": "Python 3",
      "name": "python3"
    },
    "language_info": {
      "codemirror_mode": {
        "name": "ipython",
        "version": 3
      },
      "file_extension": ".py",
      "mimetype": "text/x-python",
      "name": "python",
      "nbconvert_exporter": "python",
      "pygments_lexer": "ipython3",
      "version": "3.10.11"
    }
  },
  "nbformat": 4,
  "nbformat_minor": 0
}
