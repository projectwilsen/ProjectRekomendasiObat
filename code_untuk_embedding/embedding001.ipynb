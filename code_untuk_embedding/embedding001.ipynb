{
 "cells": [
  {
   "cell_type": "code",
   "execution_count": 29,
   "metadata": {},
   "outputs": [],
   "source": [
    "import numpy as np\n",
    "import textwrap\n",
    "import numpy as np\n",
    "import pandas as pd\n",
    "\n",
    "import google.generativeai as genai\n",
    "import google.ai.generativelanguage as glm\n",
    "\n",
    "import re\n",
    "import string\n",
    "import os\n",
    "from sklearn.metrics.pairwise import cosine_similarity\n",
    "import glob\n",
    "from natsort import natsorted\n",
    "import time\n",
    "from dotenv import load_dotenv\n",
    "\n",
    "load_dotenv()\n",
    "\n",
    "google_api_key = os.getenv('google_api_key')\n",
    "genai.configure(api_key=google_api_key)"
   ]
  },
  {
   "cell_type": "code",
   "execution_count": 37,
   "metadata": {},
   "outputs": [],
   "source": [
    "def process(corpus):\n",
    "\n",
    "  smaller_batches = None\n",
    "\n",
    "  if len(corpus) > 100:\n",
    "    max_size = 100\n",
    "    smaller_batches = [corpus[i:i + max_size] for i in range(0, len(corpus), max_size)]\n",
    "    print(len(corpus), 'corpus separated into', len(smaller_batches), 'smaller batch')\n",
    "\n",
    "    i = 0\n",
    "    y = 0\n",
    "    for smaller_batch in smaller_batches:\n",
    "      for text in smaller_batch:\n",
    "        print(text)\n",
    "        embedding = genai.embed_content(model='models/embedding-001',content=text,task_type=\"retrieval_document\")[\"embedding\"]\n",
    "        print(embedding)\n",
    "        np.save(f'temp/temp_{i}.npy', embedding)\n",
    "        print(f\"Finish embed corpus, batch {i}\")\n",
    "        i += 1\n",
    "\n",
    "      temp_directories = natsorted(glob.glob(\"temp/*.npy\"))\n",
    "      if len(temp_directories) > 1:\n",
    "        corpus = []\n",
    "        for e in natsorted(glob.glob(\"temp/*.npy\")):\n",
    "          print(e)\n",
    "          corpus.append(np.load(e))\n",
    "          embedding = np.vstack(corpus)\n",
    "          print('Success corpus append')\n",
    "          os.remove(e)\n",
    "        np.save(f'small_batch/corpus_dense_embeddings_{y}.npy', embedding)\n",
    "        print(f\"Finish embed corpus {y}\")\n",
    "        y += 1\n",
    "\n",
    "  else:\n",
    "    embedding = genai.embed_content(model='models/embedding-001',content=corpus,task_type=\"retrieval_query\")[\"embedding\"] #bisa diganti jadi \"retrieval_document\"\n",
    "\n",
    "  if smaller_batches is not None:\n",
    "    corpus = []\n",
    "    for e in natsorted(glob.glob(\"small_batch/*.npy\")):\n",
    "      print(e)\n",
    "      corpus.append(np.load(e))\n",
    "      embedding = np.vstack(corpus)\n",
    "      print('Success corpus append')\n",
    "    np.save('corpus_dense_embeddings_google_001.npy', embedding)\n",
    "\n",
    "  return embedding"
   ]
  },
  {
   "cell_type": "code",
   "execution_count": 52,
   "metadata": {},
   "outputs": [
    {
     "name": "stdout",
     "output_type": "stream",
     "text": [
      "migranal pil digunakan membantu meredakan sakit kepala\n",
      "sidola kayu putih minyak sidola minyak kayu putih membantu meredakan sakit perut  perut kembung  mual  masuk angin  gatal  gatal  aromaterapi\n",
      "balsem kuning cap kaki tiga balsam cajuput oil membantu meringankan pusing  sakit kepala  masuk angin  membantu meredakan gatal  gatal akibat gigitan serangga\n",
      "cap kaki tiga balsam kuning balsam cajuput oil membantu meringankan pusing  sakit kepala  masuk angin  membantu meredakan gatal  gatal akibat gigitan serangga\n",
      "garcia kapsul membantu tubuh menurunkan gula darah  kolesterol  teka darah  melindungi jantung  mencegah kebutaan  mencegah infeksi bakteri  virus jamur  menghambat kanker hati  kanker lambung kanker paru  melawan kanker payu dara\n",
      "kulit salep acidum benzoicum untuk mengobati penyakit kulit panu  kadas  kurap  kudis  kutu air gatal  gatal disebabkan infeksi jamur\n",
      "chikit teck aun botol pil pil chi kit teck aun membantu meredakan sakit perut  muntah  mabuk perjala memperbaiki nafsu makan\n",
      "tiger balm red balsam cajuput oil untuk pegal  pegal  nyeri otot  sakit kepala meredakan gatal akibat gigitan serangga\n",
      "kapsida kembang bulan kapsul membantu meringankan gatal  gatal  bisul  koreng jerawat\n",
      "konicare pengurang gatal gel aloe barbadensis extract liquid mengurangi gangguan gatal kulit akibat gigitan nyamuk serangga  iritasi ringan  biang keringat alergi\n"
     ]
    }
   ],
   "source": [
    "df = pd.read_csv('C:/Users/Geraldus Wilsen/Documents/ProjectRekomendasiObat/data/data_obat_fix_ordered.csv')\n",
    "corpus = df['summary'].to_list()\n",
    "corpus_embeddings = np.load('C:/Users/Geraldus Wilsen/Documents/ProjectRekomendasiObat/data/corpus_dense_embeddings_google_001.npy')\n",
    "query = 'pil untuk mengurangi gatal di kulit'\n",
    "query_embeddings = process([query])\n",
    "rank = cosine_similarity(query_embeddings,corpus_embeddings)\n",
    "rank_dict = {i: rank[0, i] for i in range(len(rank[0]))}\n",
    "dense_rank = dict(sorted(rank_dict.items(), key=lambda item: item[1], reverse=True))\n",
    "corpus_id = list(dense_rank.keys())\n",
    "for id in corpus_id[:10]:\n",
    "  print(corpus[id])"
   ]
  }
 ],
 "metadata": {
  "kernelspec": {
   "display_name": "venv",
   "language": "python",
   "name": "python3"
  },
  "language_info": {
   "codemirror_mode": {
    "name": "ipython",
    "version": 3
   },
   "file_extension": ".py",
   "mimetype": "text/x-python",
   "name": "python",
   "nbconvert_exporter": "python",
   "pygments_lexer": "ipython3",
   "version": "3.10.11"
  }
 },
 "nbformat": 4,
 "nbformat_minor": 2
}
