{
 "cells": [
  {
   "cell_type": "code",
   "execution_count": 62,
   "metadata": {},
   "outputs": [
    {
     "name": "stderr",
     "output_type": "stream",
     "text": [
      "C:\\Users\\Maryamah\\Anaconda3\\lib\\site-packages\\gensim\\models\\doc2vec.py:319: UserWarning: The parameter `size` is deprecated, will be removed in 4.0.0, use `vector_size` instead.\n",
      "  warnings.warn(\"The parameter `size` is deprecated, will be removed in 4.0.0, use `vector_size` instead.\")\n",
      "C:\\Users\\Maryamah\\Anaconda3\\lib\\site-packages\\ipykernel_launcher.py:50: DeprecationWarning: Call to deprecated `iter` (Attribute will be removed in 4.0.0, use self.epochs instead).\n"
     ]
    },
    {
     "name": "stdout",
     "output_type": "stream",
     "text": [
      "Model Saved\n"
     ]
    }
   ],
   "source": [
    "from gensim.models.doc2vec import Doc2Vec, TaggedDocument\n",
    "from nltk.tokenize import word_tokenize\n",
    "data = ['Bagaimana kami menyikapi apabila terdapat pihak yang tidak menyikapi secara positif terhadap ide kreatif dan inovasi yang kami ingin wujudkan?',\n",
    "          'Mohon arahan cara berpikir kreatif, cepat, bijak, jika ada kendala sdngkn kebijakan pimpinan blm di disposisi padahal kita harus ambil keputusan saat itu juga.',\n",
    "          'Bagaimana memunculkan ide ide kreatif dalam pekerjaan yang penuh dengan tekanan beban kerja?',\n",
    "          'Bagaimana kami bisa membangun sikap berpikir kreatif dan bisa mendorong serta menginspirasi kepada staf dalam pelayanan publik?',\n",
    "          'saya berharap bapak dapat menginspirasi saya dalam mengelola sampah kota',\n",
    "          'Mohon kita diberi pencerahan agar dapat menjadi contoh yang baik untuk tim di kantor, dan dapat menumbuhkan semangat kerja di kantor, terutama seksi kami pak,',\n",
    "          'yang saya tangkap tekanan = tidak kretif, tapi masalahnya di seksi kami pekerjaan padat pak, dan dikejar deadline, ketika tidak di press = jadi santai.',\n",
    "          'Bagaimana sikap kita saat sikap berpikir kreatif mendapatkan hambatan dari pimpinan, saat pimpinan hanya berpikiran secara materi',\n",
    "          'Bagaimana cara menyampaikan ide kreatif tanpa melampaui kewenangan kepada pimpinan',\n",
    "          'berpikir kreatif adalah berpikir out of the box menemukan pin point sebagai solusi untuk setiap masalah sehingga dapat meringankan beban kita dan orang lain',\n",
    "          'Bapak, kalau kita bisa berpikir kreatif di pekerjaan dimulai dari mana ...?',\n",
    "          'mohon motivasi dalam menghadapi atasan yang tidak sinkron dalam mengambil keputusan',\n",
    "          'Mohon arahan, untuk pelayanan RSUD agar bisa memberikan pelayanan lebih baik kepada masyarakat Tuban di masa pandemik sekarang ini',\n",
    "          'bagaimana cara menginspirasi dan menumbuhkan rasa peduli pada masyarakat untuk ikut peduli terhadap perlindungan anak',\n",
    "          'Bagaimana caranya kita menumbuhkan ide kreatif pada suatu bidang yang sebenarnya itu bukan bidang kita?',\n",
    "          'bagaimana cara menstimulasi berpikir kreatif dan inovatif terhadap staf untuk meningkatkan kinerja',\n",
    "          'bagaimana jika ide kreatif kita berbenturan dengan aturan2 atau kepentingan2 yang membatasi,padahal kita belum realisasi dari ide kita tersebut?',\n",
    "          'Bagaimana mengubah pola pikir industri kecil untuk bisa berfikir kreatif sesuai perkembangan zaman',\n",
    "          'Bagaimana bisa membangkitkan ide kreatif kepada OPD dalam rangka penyelesaian masalah pengelolaan keuangan?',\n",
    "          'Bagaimana menciptakan ide kreatif dari kegiatan rutin. Misalnya kegiatan rutin kita pembinaan pada pelaku usaha',\n",
    "          'Bagaimana membangun kepercayaan dengan berpikir kreatif agar kita bisa melayani agar hasilnya lebih maksimal.',\n",
    "          'Bagaimana cara meyakinkan ide kratif dalam melakukan pelyanan publik sedangkan pimpinan hanya mengandalkan ewuh pakewuh',\n",
    "          'mohon bisa diberi agar bisa membangun ide kreatif dalam diri kita dan tim kita untuk berpikir kreatif dalam berkoordinasi dengan orang lain biar lebih efektif',\n",
    "          'bagaimana cara berpikir kreatif yang bisa diterima, di contoh jg bisa mempengaruhi bawahan agar bisa berpikir kreatif untuk peningkatan kinerja',\n",
    "          'Apa kunci sukses bapak sehingga bapak menjadi seperti sekarang?',\n",
    "          'Bagaimana kami berfikir kreatif ketika pimpinan memberi tugas yg belum kita kerjakan dan tidak sesuai tupoksi',\n",
    "          'Bagaimana cara menumbuhkan kreativitas staf/ partner kerja yang pasif dan pendiam dalam sebuah lingkungan kerja?',\n",
    "          'Apakah kreatifitas selalu berending pada inovasi ?'\n",
    "          ]\n",
    "\n",
    "tagged_data = [TaggedDocument(words=word_tokenize(_d.lower()), tags=[str(i)]) for i, _d in enumerate(data)]\n",
    "max_epochs = 100\n",
    "vec_size = 20\n",
    "alpha = 0.025\n",
    "\n",
    "model = Doc2Vec(size=vec_size,\n",
    "                alpha=alpha, \n",
    "                min_alpha=0.00025,\n",
    "                min_count=1,\n",
    "                dm =1)\n",
    "  \n",
    "model.build_vocab(tagged_data)\n",
    "\n",
    "for epoch in range(max_epochs):\n",
    "    #print('iteration {0}'.format(epoch))\n",
    "    model.train(tagged_data,\n",
    "                total_examples=model.corpus_count,\n",
    "                epochs=model.iter)\n",
    "    # decrease the learning rate\n",
    "    model.alpha -= 0.0002\n",
    "    # fix the learning rate, no decay\n",
    "    model.min_alpha = model.alpha\n",
    "\n",
    "model.save(\"d2v.model\")\n",
    "print(\"Model Saved\")"
   ]
  },
  {
   "cell_type": "code",
   "execution_count": 66,
   "metadata": {},
   "outputs": [
    {
     "name": "stdout",
     "output_type": "stream",
     "text": [
      "[('16', 0.591110110282898), ('1', 0.53641277551651), ('19', 0.5102320909500122)]\n",
      "0.591110110282898\n",
      "bagaimana jika ide kreatif kita berbenturan dengan aturan2 atau kepentingan2 yang membatasi,padahal kita belum realisasi dari ide kita tersebut?\n",
      "Mohon arahan cara berpikir kreatif, cepat, bijak, jika ada kendala sdngkn kebijakan pimpinan blm di disposisi padahal kita harus ambil keputusan saat itu juga.\n",
      "Bagaimana menciptakan ide kreatif dari kegiatan rutin. Misalnya kegiatan rutin kita pembinaan pada pelaku usaha\n"
     ]
    }
   ],
   "source": [
    "from gensim.models.doc2vec import Doc2Vec\n",
    "\n",
    "model= Doc2Vec.load(\"d2v.model\")\n",
    "#to find the vector of a document which is not in training data\n",
    "test_data = word_tokenize(\"cara berinovasi\".lower())\n",
    "similar_doc = model.docvecs.most_similar(positive=[model.infer_vector(test_data)],topn=3)\n",
    "print(similar_doc)\n",
    "print (similar_doc[0][1])\n",
    "for i in range (0,len(similar_doc)):\n",
    "    print(data[int(similar_doc[i][0])])\n",
    "#0.05856018140912056"
   ]
  },
  {
   "cell_type": "code",
   "execution_count": 67,
   "metadata": {},
   "outputs": [
    {
     "ename": "NameError",
     "evalue": "name 'plotScatter' is not defined",
     "output_type": "error",
     "traceback": [
      "\u001b[1;31m---------------------------------------------------------------------------\u001b[0m",
      "\u001b[1;31mNameError\u001b[0m                                 Traceback (most recent call last)",
      "\u001b[1;32m<ipython-input-67-9dda759df4fa>\u001b[0m in \u001b[0;36m<module>\u001b[1;34m()\u001b[0m\n\u001b[0;32m      8\u001b[0m \u001b[0mX_tsne\u001b[0m \u001b[1;33m=\u001b[0m \u001b[0mtsne\u001b[0m\u001b[1;33m.\u001b[0m\u001b[0mfit_transform\u001b[0m\u001b[1;33m(\u001b[0m\u001b[0mX\u001b[0m\u001b[1;33m)\u001b[0m\u001b[1;33m\u001b[0m\u001b[0m\n\u001b[0;32m      9\u001b[0m \u001b[0mdf\u001b[0m \u001b[1;33m=\u001b[0m \u001b[0mpd\u001b[0m\u001b[1;33m.\u001b[0m\u001b[0mDataFrame\u001b[0m\u001b[1;33m(\u001b[0m\u001b[0mX_tsne\u001b[0m\u001b[1;33m,\u001b[0m \u001b[0mindex\u001b[0m\u001b[1;33m=\u001b[0m\u001b[0mdoc_tags\u001b[0m\u001b[1;33m,\u001b[0m \u001b[0mcolumns\u001b[0m\u001b[1;33m=\u001b[0m\u001b[1;33m[\u001b[0m\u001b[1;34m'x'\u001b[0m\u001b[1;33m,\u001b[0m \u001b[1;34m'y'\u001b[0m\u001b[1;33m]\u001b[0m\u001b[1;33m)\u001b[0m\u001b[1;33m\u001b[0m\u001b[0m\n\u001b[1;32m---> 10\u001b[1;33m \u001b[0mplotScatter\u001b[0m\u001b[1;33m(\u001b[0m\u001b[0mkeyword\u001b[0m\u001b[1;33m=\u001b[0m\u001b[1;34m\"kreatif\"\u001b[0m\u001b[1;33m)\u001b[0m\u001b[1;33m\u001b[0m\u001b[0m\n\u001b[0m",
      "\u001b[1;31mNameError\u001b[0m: name 'plotScatter' is not defined"
     ]
    }
   ],
   "source": [
    "from sklearn.manifold import TSNE\n",
    "import matplotlib.pyplot as plt\n",
    "import pandas as pd\n",
    "\n",
    "doc_tags = list(model.docvecs.doctags.keys())\n",
    "X = model[doc_tags]\n",
    "tsne = TSNE(n_components=2)\n",
    "X_tsne = tsne.fit_transform(X)\n",
    "df = pd.DataFrame(X_tsne, index=doc_tags, columns=['x', 'y'])\n",
    "plotScatter(keyword=\"kreatif\")\n"
   ]
  },
  {
   "cell_type": "code",
   "execution_count": null,
   "metadata": {},
   "outputs": [],
   "source": []
  }
 ],
 "metadata": {
  "kernelspec": {
   "display_name": "Python 3",
   "language": "python",
   "name": "python3"
  },
  "language_info": {
   "codemirror_mode": {
    "name": "ipython",
    "version": 3
   },
   "file_extension": ".py",
   "mimetype": "text/x-python",
   "name": "python",
   "nbconvert_exporter": "python",
   "pygments_lexer": "ipython3",
   "version": "3.7.0"
  }
 },
 "nbformat": 4,
 "nbformat_minor": 2
}
